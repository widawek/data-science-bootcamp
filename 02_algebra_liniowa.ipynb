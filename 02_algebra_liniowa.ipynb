{
  "nbformat": 4,
  "nbformat_minor": 0,
  "metadata": {
    "colab": {
      "provenance": [],
      "authorship_tag": "ABX9TyNF3VQ35CuzEnCGVIIotOfW",
      "include_colab_link": true
    },
    "kernelspec": {
      "name": "python3",
      "display_name": "Python 3"
    },
    "language_info": {
      "name": "python"
    }
  },
  "cells": [
    {
      "cell_type": "markdown",
      "metadata": {
        "id": "view-in-github",
        "colab_type": "text"
      },
      "source": [
        "<a href=\"https://colab.research.google.com/github/widawek/data-science-bootcamp/blob/main/02_algebra_liniowa.ipynb\" target=\"_parent\"><img src=\"https://colab.research.google.com/assets/colab-badge.svg\" alt=\"Open In Colab\"/></a>"
      ]
    },
    {
      "cell_type": "code",
      "execution_count": 1,
      "metadata": {
        "colab": {
          "base_uri": "https://localhost:8080/",
          "height": 35
        },
        "id": "inrIBLv5l0or",
        "outputId": "6a42622d-44f6-4896-a9f9-c1c023153e33"
      },
      "outputs": [
        {
          "output_type": "execute_result",
          "data": {
            "text/plain": [
              "'1.21.6'"
            ],
            "application/vnd.google.colaboratory.intrinsic+json": {
              "type": "string"
            }
          },
          "metadata": {},
          "execution_count": 1
        }
      ],
      "source": [
        "import numpy as np\n",
        "np.__version__"
      ]
    },
    {
      "cell_type": "markdown",
      "source": [
        "Norma wektorowa, długość wektora w R2\n",
        "\n"
      ],
      "metadata": {
        "id": "0Rr4nEwzpiOS"
      }
    },
    {
      "cell_type": "code",
      "source": [
        "v1 = np.array([-1,4])\n",
        "v1"
      ],
      "metadata": {
        "colab": {
          "base_uri": "https://localhost:8080/"
        },
        "id": "I4LyKEaZmFrk",
        "outputId": "c1fe8000-92e0-4c3e-a220-fbe543b5e0eb"
      },
      "execution_count": null,
      "outputs": [
        {
          "output_type": "execute_result",
          "data": {
            "text/plain": [
              "array([-1,  4])"
            ]
          },
          "metadata": {},
          "execution_count": 2
        }
      ]
    },
    {
      "cell_type": "code",
      "source": [
        "np.linalg.norm(v1)  # normalizacja (dlugosc) wektora"
      ],
      "metadata": {
        "colab": {
          "base_uri": "https://localhost:8080/"
        },
        "id": "DjGa4LQumFv-",
        "outputId": "a8a6e240-4a07-484e-bbd4-b49f6319aee3"
      },
      "execution_count": null,
      "outputs": [
        {
          "output_type": "execute_result",
          "data": {
            "text/plain": [
              "4.123105625617661"
            ]
          },
          "metadata": {},
          "execution_count": 3
        }
      ]
    },
    {
      "cell_type": "markdown",
      "source": [
        "Norma Euklidesowa"
      ],
      "metadata": {
        "id": "Q0VHSw6MqATy"
      }
    },
    {
      "cell_type": "code",
      "source": [
        "v2= np.array([-10, 10, 13])\n",
        "np.linalg.norm(v2)"
      ],
      "metadata": {
        "colab": {
          "base_uri": "https://localhost:8080/"
        },
        "id": "f3KmCtvwmFyq",
        "outputId": "29ca8b9f-eb42-47db-e375-563875c36404"
      },
      "execution_count": null,
      "outputs": [
        {
          "output_type": "execute_result",
          "data": {
            "text/plain": [
              "19.209372712298546"
            ]
          },
          "metadata": {},
          "execution_count": 4
        }
      ]
    },
    {
      "cell_type": "markdown",
      "source": [
        "Odległość dwóch punktów w płaszczyźnie"
      ],
      "metadata": {
        "id": "uDBOeYdQsHi7"
      }
    },
    {
      "cell_type": "code",
      "source": [
        "p = np.array([3,0])\n",
        "q = np.array([0,4])\n",
        "\n",
        "np.linalg.norm(p - q)"
      ],
      "metadata": {
        "colab": {
          "base_uri": "https://localhost:8080/"
        },
        "id": "umu8SrgGmF1U",
        "outputId": "e57752a4-3a9a-443e-b04b-b734aa197627"
      },
      "execution_count": null,
      "outputs": [
        {
          "output_type": "execute_result",
          "data": {
            "text/plain": [
              "5.0"
            ]
          },
          "metadata": {},
          "execution_count": 5
        }
      ]
    },
    {
      "cell_type": "markdown",
      "source": [
        "Odległość dwóch punktów w przestrzeni Rn (n wymiarów)"
      ],
      "metadata": {
        "id": "YEwnh11ZSzBC"
      }
    },
    {
      "cell_type": "code",
      "source": [
        "p = np.array([3,0, 1])\n",
        "q = np.array([0,4, 2])\n",
        "np.linalg.norm(p - q)"
      ],
      "metadata": {
        "id": "UiKa1YimmF3i",
        "colab": {
          "base_uri": "https://localhost:8080/"
        },
        "outputId": "b38d3017-4892-425c-fca3-9b309bcf2215"
      },
      "execution_count": null,
      "outputs": [
        {
          "output_type": "execute_result",
          "data": {
            "text/plain": [
              "5.0990195135927845"
            ]
          },
          "metadata": {},
          "execution_count": 6
        }
      ]
    },
    {
      "cell_type": "markdown",
      "source": [
        "MNOŻENIE MACIERZY\n",
        "\n",
        "\n",
        "Aby móc pomnożyć dwie macierze liczba kolumn w lewej macierzy musi zgadzać się z liczba wierszy w prawej macierzy.\n",
        "\n",
        "Mnożenie macierzy nie jest przemienne."
      ],
      "metadata": {
        "id": "CgM9MxsjTL2C"
      }
    },
    {
      "cell_type": "code",
      "source": [
        "X = np.array ([[5, 3], [3, 9]])\n",
        "Y = np.array ([[1], [-1]])\n",
        "print(X)\n",
        "print(Y)"
      ],
      "metadata": {
        "id": "qslFsqLqmF52",
        "colab": {
          "base_uri": "https://localhost:8080/"
        },
        "outputId": "21832c04-9c83-4b74-c266-612fc9096f57"
      },
      "execution_count": null,
      "outputs": [
        {
          "output_type": "stream",
          "name": "stdout",
          "text": [
            "[[5 3]\n",
            " [3 9]]\n",
            "[[ 1]\n",
            " [-1]]\n"
          ]
        }
      ]
    },
    {
      "cell_type": "code",
      "source": [
        "Z = np.dot(X, Y)\n",
        "Z"
      ],
      "metadata": {
        "id": "sELjmYErmF8q",
        "colab": {
          "base_uri": "https://localhost:8080/"
        },
        "outputId": "1e3794c1-f268-4cfe-90c9-77ad516daee3"
      },
      "execution_count": null,
      "outputs": [
        {
          "output_type": "execute_result",
          "data": {
            "text/plain": [
              "array([[ 2],\n",
              "       [-6]])"
            ]
          },
          "metadata": {},
          "execution_count": 11
        }
      ]
    },
    {
      "cell_type": "code",
      "source": [
        "Z.shape"
      ],
      "metadata": {
        "id": "e-EmC6KDmF--",
        "colab": {
          "base_uri": "https://localhost:8080/"
        },
        "outputId": "e44f3aab-2f92-4faf-db6d-5ecf3188ff87"
      },
      "execution_count": null,
      "outputs": [
        {
          "output_type": "execute_result",
          "data": {
            "text/plain": [
              "(2, 1)"
            ]
          },
          "metadata": {},
          "execution_count": 9
        }
      ]
    },
    {
      "cell_type": "code",
      "source": [
        "X = np.array([[2, -1, 3],\n",
        "              [3, 1, 0]])\n",
        "Y = np.array([[2, 1, -1],\n",
        "              [0, -1, 2],\n",
        "              [3, 2, 0]])\n",
        "\n",
        "print(X, \"\\n\")\n",
        "print(Y)"
      ],
      "metadata": {
        "id": "FDnJGsYbmGBX",
        "colab": {
          "base_uri": "https://localhost:8080/"
        },
        "outputId": "f56c543c-5ff8-4cbb-bf1e-57c3085d4faa"
      },
      "execution_count": null,
      "outputs": [
        {
          "output_type": "stream",
          "name": "stdout",
          "text": [
            "[[ 2 -1  3]\n",
            " [ 3  1  0]] \n",
            "\n",
            "[[ 2  1 -1]\n",
            " [ 0 -1  2]\n",
            " [ 3  2  0]]\n"
          ]
        }
      ]
    },
    {
      "cell_type": "code",
      "source": [
        "Z = np.dot(X,Y)\n",
        "Z"
      ],
      "metadata": {
        "id": "ZEFqNAvVmGEb",
        "colab": {
          "base_uri": "https://localhost:8080/"
        },
        "outputId": "f3cc8841-e5d8-405c-f612-a75df2f92357"
      },
      "execution_count": null,
      "outputs": [
        {
          "output_type": "execute_result",
          "data": {
            "text/plain": [
              "array([[13,  9, -4],\n",
              "       [ 6,  2, -1]])"
            ]
          },
          "metadata": {},
          "execution_count": 19
        }
      ]
    },
    {
      "cell_type": "code",
      "source": [
        "np.dot(X, Y)"
      ],
      "metadata": {
        "id": "dzb-yhBMmGHK",
        "colab": {
          "base_uri": "https://localhost:8080/"
        },
        "outputId": "ec67fa98-9da1-4896-d154-a770d1b6555d"
      },
      "execution_count": null,
      "outputs": [
        {
          "output_type": "execute_result",
          "data": {
            "text/plain": [
              "array([[13,  9, -4],\n",
              "       [ 6,  2, -1]])"
            ]
          },
          "metadata": {},
          "execution_count": 20
        }
      ]
    },
    {
      "cell_type": "markdown",
      "source": [
        "WYZNACZNIK MACIERZY"
      ],
      "metadata": {
        "id": "cDeCfj4l-2s4"
      }
    },
    {
      "cell_type": "code",
      "source": [
        "A = np.array([[2,4], [-1,3]])\n",
        "round(np.linalg.det(A))"
      ],
      "metadata": {
        "id": "vzY-byhgmGJj",
        "colab": {
          "base_uri": "https://localhost:8080/"
        },
        "outputId": "f01fbc08-2cb3-4764-bfec-62c2d680d84b"
      },
      "execution_count": 4,
      "outputs": [
        {
          "output_type": "execute_result",
          "data": {
            "text/plain": [
              "10"
            ]
          },
          "metadata": {},
          "execution_count": 4
        }
      ]
    },
    {
      "cell_type": "code",
      "source": [
        "A = np.array([[2,4], [-1,3]])\n",
        "np.trace(A)"
      ],
      "metadata": {
        "id": "vkF744I8mGML",
        "colab": {
          "base_uri": "https://localhost:8080/"
        },
        "outputId": "fdfbdf03-e15b-4e00-aa9a-f6892dde6c1e"
      },
      "execution_count": 5,
      "outputs": [
        {
          "output_type": "execute_result",
          "data": {
            "text/plain": [
              "5"
            ]
          },
          "metadata": {},
          "execution_count": 5
        }
      ]
    },
    {
      "cell_type": "code",
      "source": [
        "np.eye(5, dtype=\"int\")"
      ],
      "metadata": {
        "id": "gth7Uv9OmGPC",
        "colab": {
          "base_uri": "https://localhost:8080/"
        },
        "outputId": "377303ca-0699-41c8-b76c-215bcfd4c50e"
      },
      "execution_count": 6,
      "outputs": [
        {
          "output_type": "execute_result",
          "data": {
            "text/plain": [
              "array([[1, 0, 0, 0, 0],\n",
              "       [0, 1, 0, 0, 0],\n",
              "       [0, 0, 1, 0, 0],\n",
              "       [0, 0, 0, 1, 0],\n",
              "       [0, 0, 0, 0, 1]])"
            ]
          },
          "metadata": {},
          "execution_count": 6
        }
      ]
    },
    {
      "cell_type": "code",
      "source": [
        "B = np.linalg.inv(A)\n",
        "B"
      ],
      "metadata": {
        "id": "AkR5PeA0mGRh",
        "colab": {
          "base_uri": "https://localhost:8080/"
        },
        "outputId": "4ac55d07-40e8-4529-e94e-3d2d0e9dd690"
      },
      "execution_count": 10,
      "outputs": [
        {
          "output_type": "execute_result",
          "data": {
            "text/plain": [
              "array([[ 0.3, -0.4],\n",
              "       [ 0.1,  0.2]])"
            ]
          },
          "metadata": {},
          "execution_count": 10
        }
      ]
    },
    {
      "cell_type": "code",
      "source": [
        "np.set_printoptions(precision=4, suppress= True)\n",
        "\n",
        "np.dot(A, B)"
      ],
      "metadata": {
        "id": "6e5z7iGomGUM",
        "colab": {
          "base_uri": "https://localhost:8080/"
        },
        "outputId": "4472c62c-9bd6-4191-f7fc-d90ce6deac33"
      },
      "execution_count": 14,
      "outputs": [
        {
          "output_type": "execute_result",
          "data": {
            "text/plain": [
              "array([[1., 0.],\n",
              "       [0., 1.]])"
            ]
          },
          "metadata": {},
          "execution_count": 14
        }
      ]
    },
    {
      "cell_type": "code",
      "source": [
        "A.T # transpozycje"
      ],
      "metadata": {
        "id": "q6Z0FSjNmGWy",
        "colab": {
          "base_uri": "https://localhost:8080/"
        },
        "outputId": "e40bd6db-8b5b-407b-f4f5-829601efcb98"
      },
      "execution_count": 17,
      "outputs": [
        {
          "output_type": "execute_result",
          "data": {
            "text/plain": [
              "array([[ 2, -1],\n",
              "       [ 4,  3]])"
            ]
          },
          "metadata": {},
          "execution_count": 17
        }
      ]
    },
    {
      "cell_type": "code",
      "source": [],
      "metadata": {
        "id": "N4Wdk4WCmGZS"
      },
      "execution_count": null,
      "outputs": []
    },
    {
      "cell_type": "code",
      "source": [
        "A = np.array([[2, 4], [1, -1]])\n",
        "print(A)"
      ],
      "metadata": {
        "colab": {
          "base_uri": "https://localhost:8080/"
        },
        "id": "B1eC6cjiCmin",
        "outputId": "3714560d-4c99-4d3d-c86c-2e700b1e4d08"
      },
      "execution_count": 19,
      "outputs": [
        {
          "output_type": "stream",
          "name": "stdout",
          "text": [
            "[[ 2  4]\n",
            " [ 1 -1]]\n"
          ]
        }
      ]
    },
    {
      "cell_type": "code",
      "source": [
        "B = np.array([[10], [-1]])\n",
        "print(B)"
      ],
      "metadata": {
        "colab": {
          "base_uri": "https://localhost:8080/"
        },
        "id": "ewKuC_6cCmlC",
        "outputId": "3aa6189b-835a-472c-b6dd-59edcf05cb34"
      },
      "execution_count": 20,
      "outputs": [
        {
          "output_type": "stream",
          "name": "stdout",
          "text": [
            "[[10]\n",
            " [-1]]\n"
          ]
        }
      ]
    },
    {
      "cell_type": "code",
      "source": [
        "A_inv = np.linalg.inv(A)\n",
        "X = np.dot(A_inv, B)\n",
        "X"
      ],
      "metadata": {
        "colab": {
          "base_uri": "https://localhost:8080/"
        },
        "id": "zsUQcEkQCmne",
        "outputId": "63fa9d71-3bef-4e63-ce6e-39f3fca54be4"
      },
      "execution_count": 21,
      "outputs": [
        {
          "output_type": "execute_result",
          "data": {
            "text/plain": [
              "array([[1.],\n",
              "       [2.]])"
            ]
          },
          "metadata": {},
          "execution_count": 21
        }
      ]
    }
  ]
}